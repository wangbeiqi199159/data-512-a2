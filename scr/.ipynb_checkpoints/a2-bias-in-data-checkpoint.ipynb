{
 "cells": [
  {
   "cell_type": "markdown",
   "metadata": {},
   "source": [
    "# HW2: Bias in data\n",
    "\n",
    "This is an analysis of how the coverage of politicians on English-language Wikipedia and the quality of articles about politicians varies between countries. There will be visualizations to show:\n",
    "\n",
    "1. the countries with the greatest and least coverage of politicians on Wikipedia compared to their population.\n",
    "\n",
    "2. the countries with the highest and lowest proportion of high quality articles about politicians.\n",
    "\n",
    "This project reflects the existence of bias in data analysis.\n",
    "\n",
    "## 1. Getting the article and population data\n",
    "\n",
    "**Article data:**The wikipedia dataset can be found on [Figshare](https://figshare.com/articles/Untitled_Item/5513449).\n",
    "\n",
    "**Population data:**The population data is on the [Population Research Bureau website](http://www.prb.org/DataFinder/Topic/Rankings.aspx?ind=14). \n",
    "\n",
    "Two data sets are stored under ```raw_data``` folder."
   ]
  },
  {
   "cell_type": "code",
   "execution_count": 1,
   "metadata": {
    "collapsed": false
   },
   "outputs": [
    {
     "data": {
      "text/plain": [
       "[['page', 'country', 'rev_id'],\n",
       " ['Template:ZambiaProvincialMinisters', 'Zambia', '235107991'],\n",
       " ['Bir I of Kanem', 'Chad', '355319463'],\n",
       " ['Template:Zimbabwe-politician-stub', 'Zimbabwe', '391862046'],\n",
       " ['Template:Uganda-politician-stub', 'Uganda', '391862070']]"
      ]
     },
     "execution_count": 1,
     "metadata": {},
     "output_type": "execute_result"
    }
   ],
   "source": [
    "import csv\n",
    "\n",
    "# read wikipedia article data\n",
    "article = []\n",
    "with open('../raw_data/page_data.csv') as csvfile:\n",
    "    reader = csv.reader(csvfile)\n",
    "    for row in reader:\n",
    "        article.append(row)\n",
    "        \n",
    "article[:5]"
   ]
  },
  {
   "cell_type": "code",
   "execution_count": 2,
   "metadata": {
    "collapsed": false
   },
   "outputs": [
    {
     "data": {
      "text/plain": [
       "[['Population Mid-2015'],\n",
       " [],\n",
       " ['Location', 'Location Type', 'TimeFrame', 'Data Type', 'Data', 'Footnotes'],\n",
       " ['Afghanistan', 'Country', 'Mid-2015', 'Number', '32,247,000', ''],\n",
       " ['Albania', 'Country', 'Mid-2015', 'Number', '2,892,000', '']]"
      ]
     },
     "execution_count": 2,
     "metadata": {},
     "output_type": "execute_result"
    }
   ],
   "source": [
    "# read population data\n",
    "population = []\n",
    "with open('../raw_data/Population Mid-2015.csv') as csvfile:\n",
    "    reader = csv.reader(csvfile)\n",
    "    for row in reader:\n",
    "        population.append(row)\n",
    "        \n",
    "population[:5]"
   ]
  },
  {
   "cell_type": "markdown",
   "metadata": {},
   "source": [
    "## 2. Getting article quality predictions\n",
    "\n",
    "The next step is to use a Wikimedia API endpoint for a machine learning system called [ORES (\"Objective Revision Evaluation Service\")](https://ores.wikimedia.org/v3/#!/scoring/get_v3_scores_context_revid_model). ORES estimates the quality of an article (at a particular point in time), and assigns a series of probabilities that the article is in one of 6 quality categories. The options are, from best to worst:\n",
    "\n",
    "- FA - Featured article\n",
    "- GA - Good article\n",
    "- B - B-class article\n",
    "- C - C-class article\n",
    "- Start - Start-class article\n",
    "- Stub - Stub-class article\n",
    "\n",
    "Here, we only capture and use the value for prediction."
   ]
  },
  {
   "cell_type": "code",
   "execution_count": 3,
   "metadata": {
    "collapsed": false
   },
   "outputs": [],
   "source": [
    "import requests\n",
    "import json\n",
    "\n",
    "headers = {'User-Agent' : 'https://github.com/wangbeiqi199159', 'From' : 'beiqiw@uw.edu'}\n",
    "\n",
    "def get_ores_data(revision_ids, headers):\n",
    "    \"\"\"get predicted quality scores from ORES API\n",
    "    Args:\n",
    "        revision_ids (list): a list of article revision ids\n",
    "        headers (dict): user agent and email\n",
    "    \"\"\"\n",
    "    \n",
    "    # Define the endpoint\n",
    "    endpoint = 'https://ores.wikimedia.org/v3/scores/{project}/?models={model}&revids={revids}'\n",
    "    \n",
    "    # Specify the parameters - smushing all the revision IDs together separated by | marks.\n",
    "    # Yes, 'smush' is a technical term, trust me I'm a scientist.\n",
    "    # What do you mean \"but people trusting scientists regularly goes horribly wrong\" who taught you tha- oh.  \n",
    "    params = {'project' : 'enwiki',\n",
    "              'model'   : 'wp10',\n",
    "              'revids'  : '|'.join(str(x) for x in revision_ids)\n",
    "              }\n",
    "    api_call = requests.get(endpoint.format(**params))\n",
    "    response = api_call.json()\n",
    "    return response\n"
   ]
  },
  {
   "cell_type": "code",
   "execution_count": 4,
   "metadata": {
    "collapsed": false
   },
   "outputs": [
    {
     "data": {
      "text/plain": [
       "47197"
      ]
     },
     "execution_count": 4,
     "metadata": {},
     "output_type": "execute_result"
    }
   ],
   "source": [
    "# get revision id colum from article data set\n",
    "ids = []\n",
    "for i in range(1, len(article)):\n",
    "    ids.append(int(article[i][2]))\n",
    "    \n",
    "len(ids)"
   ]
  },
  {
   "cell_type": "markdown",
   "metadata": {},
   "source": [
    "To avoid hitting limits in ORES, I process 100 revision id each time to get the prediction value."
   ]
  },
  {
   "cell_type": "code",
   "execution_count": 5,
   "metadata": {
    "collapsed": false
   },
   "outputs": [
    {
     "data": {
      "text/plain": [
       "47197"
      ]
     },
     "execution_count": 5,
     "metadata": {},
     "output_type": "execute_result"
    }
   ],
   "source": [
    "# for each revision id, get the prediction value\n",
    "quality = []\n",
    "start = 0\n",
    "\n",
    "while start < len(ids):\n",
    "    end = min(start + 100, len(ids))\n",
    "    score = get_ores_data(ids[start : end], headers)\n",
    "    for rev_id in score['enwiki']['scores']:\n",
    "        # avoid revision id that does not have score value\n",
    "        if 'score' in score['enwiki']['scores'][rev_id]['wp10']:\n",
    "            quality.append(score['enwiki']['scores'][rev_id]['wp10']['score']['prediction'])\n",
    "        else:\n",
    "            quality.append(None)\n",
    "    start = start + 100\n",
    "    \n",
    "len(quality)"
   ]
  },
  {
   "cell_type": "markdown",
   "metadata": {},
   "source": [
    "## 3. Combining the datasets\n",
    "\n",
    "Next step is to merge the data. The final dataset we want inclues 5 columns:\n",
    "\n",
    "|  Column |\n",
    "|---|\n",
    "| country  |\n",
    "|  article_name|\n",
    "|  revision_id |\n",
    "|  article_quality|\n",
    "|  population |\n",
    "\n",
    "\n",
    "For entries which cannot be merged. Either the population dataset does not have an entry for the equivalent Wikipedia country, or vice versa. I just removed the rows that do not have matching data."
   ]
  },
  {
   "cell_type": "code",
   "execution_count": 6,
   "metadata": {
    "collapsed": true
   },
   "outputs": [],
   "source": [
    "import pandas as pd\n",
    "import numpy as np"
   ]
  },
  {
   "cell_type": "markdown",
   "metadata": {},
   "source": [
    "Reorganize article dataframe to only keep 4 columns: ```article_name```, ```article_quality```, ```country``` and ```revision_id```."
   ]
  },
  {
   "cell_type": "code",
   "execution_count": 7,
   "metadata": {
    "collapsed": false
   },
   "outputs": [
    {
     "data": {
      "text/html": [
       "<div>\n",
       "<table border=\"1\" class=\"dataframe\">\n",
       "  <thead>\n",
       "    <tr style=\"text-align: right;\">\n",
       "      <th></th>\n",
       "      <th>article_name</th>\n",
       "      <th>article_quality</th>\n",
       "      <th>country</th>\n",
       "      <th>revision_id</th>\n",
       "    </tr>\n",
       "  </thead>\n",
       "  <tbody>\n",
       "    <tr>\n",
       "      <th>0</th>\n",
       "      <td>Template:ZambiaProvincialMinisters</td>\n",
       "      <td>Stub</td>\n",
       "      <td>Zambia</td>\n",
       "      <td>235107991</td>\n",
       "    </tr>\n",
       "    <tr>\n",
       "      <th>1</th>\n",
       "      <td>Bir I of Kanem</td>\n",
       "      <td>Stub</td>\n",
       "      <td>Chad</td>\n",
       "      <td>355319463</td>\n",
       "    </tr>\n",
       "    <tr>\n",
       "      <th>2</th>\n",
       "      <td>Template:Zimbabwe-politician-stub</td>\n",
       "      <td>Stub</td>\n",
       "      <td>Zimbabwe</td>\n",
       "      <td>391862046</td>\n",
       "    </tr>\n",
       "    <tr>\n",
       "      <th>3</th>\n",
       "      <td>Template:Uganda-politician-stub</td>\n",
       "      <td>Stub</td>\n",
       "      <td>Uganda</td>\n",
       "      <td>391862070</td>\n",
       "    </tr>\n",
       "    <tr>\n",
       "      <th>4</th>\n",
       "      <td>Template:Namibia-politician-stub</td>\n",
       "      <td>Stub</td>\n",
       "      <td>Namibia</td>\n",
       "      <td>391862409</td>\n",
       "    </tr>\n",
       "  </tbody>\n",
       "</table>\n",
       "</div>"
      ],
      "text/plain": [
       "                         article_name article_quality   country  revision_id\n",
       "0  Template:ZambiaProvincialMinisters            Stub    Zambia    235107991\n",
       "1                      Bir I of Kanem            Stub      Chad    355319463\n",
       "2   Template:Zimbabwe-politician-stub            Stub  Zimbabwe    391862046\n",
       "3     Template:Uganda-politician-stub            Stub    Uganda    391862070\n",
       "4    Template:Namibia-politician-stub            Stub   Namibia    391862409"
      ]
     },
     "execution_count": 7,
     "metadata": {},
     "output_type": "execute_result"
    }
   ],
   "source": [
    "# process article dataset\n",
    "article_name = []\n",
    "for i in range(1, len(article)):\n",
    "    article_name.append(article[i][0])\n",
    "    \n",
    "country = []\n",
    "for i in range(1, len(article)):\n",
    "    country.append(article[i][1])\n",
    "\n",
    "article_df = pd.DataFrame({'article_name' : article_name,\n",
    "                          'country' : country,\n",
    "                          'revision_id' : ids,\n",
    "                          'article_quality' : quality})\n",
    "\n",
    "article_df[:5]"
   ]
  },
  {
   "cell_type": "markdown",
   "metadata": {},
   "source": [
    "Reorganize population dataframe to only keep 2 columns: ```country``` and ```population```."
   ]
  },
  {
   "cell_type": "code",
   "execution_count": 8,
   "metadata": {
    "collapsed": false
   },
   "outputs": [
    {
     "data": {
      "text/html": [
       "<div>\n",
       "<table border=\"1\" class=\"dataframe\">\n",
       "  <thead>\n",
       "    <tr style=\"text-align: right;\">\n",
       "      <th></th>\n",
       "      <th>country</th>\n",
       "      <th>population</th>\n",
       "    </tr>\n",
       "  </thead>\n",
       "  <tbody>\n",
       "    <tr>\n",
       "      <th>0</th>\n",
       "      <td>Afghanistan</td>\n",
       "      <td>32247000</td>\n",
       "    </tr>\n",
       "    <tr>\n",
       "      <th>1</th>\n",
       "      <td>Albania</td>\n",
       "      <td>2892000</td>\n",
       "    </tr>\n",
       "    <tr>\n",
       "      <th>2</th>\n",
       "      <td>Algeria</td>\n",
       "      <td>39948000</td>\n",
       "    </tr>\n",
       "    <tr>\n",
       "      <th>3</th>\n",
       "      <td>Andorra</td>\n",
       "      <td>78000</td>\n",
       "    </tr>\n",
       "    <tr>\n",
       "      <th>4</th>\n",
       "      <td>Angola</td>\n",
       "      <td>25000000</td>\n",
       "    </tr>\n",
       "  </tbody>\n",
       "</table>\n",
       "</div>"
      ],
      "text/plain": [
       "       country  population\n",
       "0  Afghanistan    32247000\n",
       "1      Albania     2892000\n",
       "2      Algeria    39948000\n",
       "3      Andorra       78000\n",
       "4       Angola    25000000"
      ]
     },
     "execution_count": 8,
     "metadata": {},
     "output_type": "execute_result"
    }
   ],
   "source": [
    "# process population dataset\n",
    "location = []\n",
    "for i in range(3, len(population) - 1):\n",
    "    location.append(population[i][0])\n",
    "    \n",
    "data = []\n",
    "for i in range(3, len(population) - 1):\n",
    "    data.append(int(population[i][4].replace(',', '')))\n",
    "\n",
    "population_df = pd.DataFrame({'country' : location,\n",
    "                          'population' : data})\n",
    "\n",
    "population_df[:5]"
   ]
  },
  {
   "cell_type": "markdown",
   "metadata": {},
   "source": [
    "Merge the two dataframes by performing a inner join based on country. That means rows that do not have matching data are removed."
   ]
  },
  {
   "cell_type": "code",
   "execution_count": 9,
   "metadata": {
    "collapsed": false
   },
   "outputs": [
    {
     "data": {
      "text/html": [
       "<div>\n",
       "<table border=\"1\" class=\"dataframe\">\n",
       "  <thead>\n",
       "    <tr style=\"text-align: right;\">\n",
       "      <th></th>\n",
       "      <th>article_name</th>\n",
       "      <th>article_quality</th>\n",
       "      <th>country</th>\n",
       "      <th>revision_id</th>\n",
       "      <th>population</th>\n",
       "    </tr>\n",
       "  </thead>\n",
       "  <tbody>\n",
       "    <tr>\n",
       "      <th>0</th>\n",
       "      <td>Template:ZambiaProvincialMinisters</td>\n",
       "      <td>Stub</td>\n",
       "      <td>Zambia</td>\n",
       "      <td>235107991</td>\n",
       "      <td>15473900</td>\n",
       "    </tr>\n",
       "    <tr>\n",
       "      <th>1</th>\n",
       "      <td>Gladys Lundwe</td>\n",
       "      <td>Stub</td>\n",
       "      <td>Zambia</td>\n",
       "      <td>757566606</td>\n",
       "      <td>15473900</td>\n",
       "    </tr>\n",
       "    <tr>\n",
       "      <th>2</th>\n",
       "      <td>Mwamba Luchembe</td>\n",
       "      <td>Stub</td>\n",
       "      <td>Zambia</td>\n",
       "      <td>764848643</td>\n",
       "      <td>15473900</td>\n",
       "    </tr>\n",
       "    <tr>\n",
       "      <th>3</th>\n",
       "      <td>Thandiwe Banda</td>\n",
       "      <td>Start</td>\n",
       "      <td>Zambia</td>\n",
       "      <td>768166426</td>\n",
       "      <td>15473900</td>\n",
       "    </tr>\n",
       "    <tr>\n",
       "      <th>4</th>\n",
       "      <td>Sylvester Chisembele</td>\n",
       "      <td>C</td>\n",
       "      <td>Zambia</td>\n",
       "      <td>776082926</td>\n",
       "      <td>15473900</td>\n",
       "    </tr>\n",
       "  </tbody>\n",
       "</table>\n",
       "</div>"
      ],
      "text/plain": [
       "                         article_name article_quality country  revision_id  \\\n",
       "0  Template:ZambiaProvincialMinisters            Stub  Zambia    235107991   \n",
       "1                       Gladys Lundwe            Stub  Zambia    757566606   \n",
       "2                     Mwamba Luchembe            Stub  Zambia    764848643   \n",
       "3                      Thandiwe Banda           Start  Zambia    768166426   \n",
       "4                Sylvester Chisembele               C  Zambia    776082926   \n",
       "\n",
       "   population  \n",
       "0    15473900  \n",
       "1    15473900  \n",
       "2    15473900  \n",
       "3    15473900  \n",
       "4    15473900  "
      ]
     },
     "execution_count": 9,
     "metadata": {},
     "output_type": "execute_result"
    }
   ],
   "source": [
    "# merge two datasets\n",
    "df = pd.merge(article_df, population_df, on='country', how='inner')\n",
    "df[:5]"
   ]
  },
  {
   "cell_type": "code",
   "execution_count": 10,
   "metadata": {
    "collapsed": true
   },
   "outputs": [],
   "source": [
    "# store cleaned data\n",
    "df.to_csv('../cleaned_data/' + 'cleaned_data.csv', sep=',')"
   ]
  },
  {
   "cell_type": "markdown",
   "metadata": {},
   "source": [
    "## 4. Analysis\n",
    "\n",
    "### (1) Articles per population (%)\n",
    "\n",
    "Articles per population means number of politician articles as a proportion of country population. \n",
    "\n",
    "For example, if a country has a population of 10,000 people, and you found 10 articles about politicians from that country, then the percentage of articles-per-population would be .1%."
   ]
  },
  {
   "cell_type": "code",
   "execution_count": 11,
   "metadata": {
    "collapsed": false
   },
   "outputs": [
    {
     "data": {
      "text/plain": [
       "country\n",
       "Afghanistan            0.001014\n",
       "Albania                0.015906\n",
       "Algeria                0.000298\n",
       "Andorra                0.043590\n",
       "Angola                 0.000440\n",
       "Antigua and Barbuda    0.027778\n",
       "Argentina              0.001169\n",
       "Armenia                0.006596\n",
       "Australia              0.006556\n",
       "Austria                0.003946\n",
       "dtype: float64"
      ]
     },
     "execution_count": 11,
     "metadata": {},
     "output_type": "execute_result"
    }
   ],
   "source": [
    "# calculate articles per population\n",
    "articles_counts = df.groupby(['country'])['article_name'].count()\n",
    "populations = df.groupby(['country'])['population'].mean()\n",
    "articles_per_population = articles_counts / populations * 100\n",
    "articles_per_population = articles_per_population.round(6)\n",
    "articles_per_population[: 10]"
   ]
  },
  {
   "cell_type": "markdown",
   "metadata": {},
   "source": [
    "### (2) High-quality articles rate (%)\n",
    "\n",
    "High-quality articles rate means number of GA and FA-quality articles as a proportion of all articles about politicians from that country.\n",
    "\n",
    "By \"high quality\" articles, in this case we mean the number of articles about politicians in a given country that ORES predicted would be in either the \"FA\" (featured article) or \"GA\" (good article) classes.\n",
    "\n",
    "For example, if a country has 10 articles about politicians, and 2 of them are FA or GA class articles, then the percentage of high-quality articles would be 20%."
   ]
  },
  {
   "cell_type": "code",
   "execution_count": 12,
   "metadata": {
    "collapsed": false
   },
   "outputs": [
    {
     "data": {
      "text/plain": [
       "country\n",
       "Afghanistan            0.000059\n",
       "Albania                0.000173\n",
       "Algeria                0.000008\n",
       "Andorra                0.000000\n",
       "Angola                 0.000008\n",
       "Antigua and Barbuda    0.000000\n",
       "Argentina              0.000038\n",
       "Armenia                0.000199\n",
       "Australia              0.000184\n",
       "Austria                0.000035\n",
       "dtype: float64"
      ]
     },
     "execution_count": 12,
     "metadata": {},
     "output_type": "execute_result"
    }
   ],
   "source": [
    "# calculate high-quality articles rate\n",
    "high_quality = df.loc[(df['article_quality'] == 'FA') | (df['article_quality'] == 'GA')]\n",
    "high_quality_counts = high_quality.groupby(['country'])['article_name'].count()\n",
    "high_quality_rate = high_quality_counts / populations * 100\n",
    "high_quality_rate = high_quality_rate.replace(np.nan, 0).round(6)\n",
    "high_quality_rate[: 10]"
   ]
  },
  {
   "cell_type": "markdown",
   "metadata": {},
   "source": [
    "## 5. Visualization\n",
    "\n",
    "### (1) 10 highest-ranked countries in terms of number of politician articles as a proportion of country population"
   ]
  },
  {
   "cell_type": "code",
   "execution_count": 13,
   "metadata": {
    "collapsed": true
   },
   "outputs": [],
   "source": [
    "import matplotlib.pyplot as plt"
   ]
  },
  {
   "cell_type": "code",
   "execution_count": 14,
   "metadata": {
    "collapsed": false
   },
   "outputs": [
    {
     "data": {
      "text/plain": [
       "country\n",
       "Nauru                             0.488029\n",
       "Tuvalu                            0.466102\n",
       "San Marino                        0.248485\n",
       "Monaco                            0.105020\n",
       "Liechtenstein                     0.077189\n",
       "Marshall Islands                  0.067273\n",
       "Iceland                           0.062268\n",
       "Tonga                             0.060987\n",
       "Andorra                           0.043590\n",
       "Federated States of Micronesia    0.036893\n",
       "dtype: float64"
      ]
     },
     "execution_count": 14,
     "metadata": {},
     "output_type": "execute_result"
    }
   ],
   "source": [
    "# rank article per country in descending order to get 10 highest-ranked countries\n",
    "highest_article_per_country = articles_per_population.sort_values(ascending = False)[0 : 10]\n",
    "highest_article_per_country"
   ]
  },
  {
   "cell_type": "code",
   "execution_count": 23,
   "metadata": {
    "collapsed": false
   },
   "outputs": [
    {
     "data": {
      "image/png": "[encoded data removed]",
      "text/plain": [
       "<matplotlib.figure.Figure at 0x117005198>"
      ]
     },
     "metadata": {},
     "output_type": "display_data"
    }
   ],
   "source": [
    "# plot the visualization\n",
    "lables = highest_article_per_country.index\n",
    "values = highest_article_per_country.values\n",
    "y_pos = np.arange(len(lables))\n",
    "\n",
    "fig, ax = plt.subplots()\n",
    "\n",
    "ax.bar(y_pos, values, width = 0.6, label = 'articles per population' )\n",
    "\n",
    "fig.set_size_inches(11, 6)\n",
    "plt.xticks(y_pos, lables, rotation=70)\n",
    "plt.legend(prop={'size': 15})\n",
    "fig.suptitle('10 Highest-ranked Country In Terms Of Articles Per Population (%)', fontsize=20)\n",
    "ax.set_xlabel('Country')\n",
    "ax.set_ylabel('Articles Per Population')\n",
    "ax.xaxis.label.set_size(15)\n",
    "ax.yaxis.label.set_size(15)\n",
    "\n",
    "plt.show()\n"
   ]
  },
  {
   "cell_type": "markdown",
   "metadata": {},
   "source": [
    "### (2) 10 lowest-ranked countries in terms of number of politician articles as a proportion of country population"
   ]
  },
  {
   "cell_type": "code",
   "execution_count": 16,
   "metadata": {
    "collapsed": false
   },
   "outputs": [
    {
     "data": {
      "text/plain": [
       "country\n",
       "India                  0.000075\n",
       "China                  0.000083\n",
       "Indonesia              0.000084\n",
       "Uzbekistan             0.000093\n",
       "Ethiopia               0.000107\n",
       "Korea, North           0.000156\n",
       "Zambia                 0.000168\n",
       "Thailand               0.000172\n",
       "Congo, Dem. Rep. of    0.000194\n",
       "Bangladesh             0.000202\n",
       "dtype: float64"
      ]
     },
     "execution_count": 16,
     "metadata": {},
     "output_type": "execute_result"
    }
   ],
   "source": [
    "# rank article per country in ascending order to get 10 lowest-ranked countries\n",
    "lowest_article_per_country = articles_per_population.sort_values()[0 : 10]\n",
    "lowest_article_per_country"
   ]
  },
  {
   "cell_type": "code",
   "execution_count": 22,
   "metadata": {
    "collapsed": false
   },
   "outputs": [
    {
     "data": {
      "image/png": "[encoded data removed]",
      "text/plain": [
       "<matplotlib.figure.Figure at 0x116aa56d8>"
      ]
     },
     "metadata": {},
     "output_type": "display_data"
    }
   ],
   "source": [
    "# plot the visualization\n",
    "lables = lowest_article_per_country.index\n",
    "values = lowest_article_per_country.values\n",
    "y_pos = np.arange(len(lables))\n",
    "\n",
    "fig, ax = plt.subplots()\n",
    "\n",
    "ax.bar(y_pos, values, width = 0.6, label = 'articles per population' )\n",
    "\n",
    "fig.set_size_inches(11, 6)\n",
    "plt.xticks(y_pos, lables, rotation=70)\n",
    "plt.legend(prop={'size': 15})\n",
    "fig.suptitle('10 Lowesr-ranked Country In Terms Of Articles Per Population (%)', fontsize=20)\n",
    "ax.set_xlabel('Country')\n",
    "ax.set_ylabel('Articles Per Population')\n",
    "ax.xaxis.label.set_size(15)\n",
    "ax.yaxis.label.set_size(15)\n",
    "\n",
    "plt.show()"
   ]
  },
  {
   "cell_type": "markdown",
   "metadata": {},
   "source": [
    "### (3) 10 highest-ranked countries in terms of number of GA and FA-quality articles as a proportion of all articles about politicians from that country\n"
   ]
  },
  {
   "cell_type": "code",
   "execution_count": 18,
   "metadata": {
    "collapsed": false
   },
   "outputs": [
    {
     "data": {
      "text/plain": [
       "country\n",
       "Tuvalu                   0.008475\n",
       "Vanuatu                  0.001081\n",
       "Iceland                  0.000907\n",
       "Grenada                  0.000901\n",
       "Ireland                  0.000670\n",
       "Maldives                 0.000576\n",
       "Bhutan                   0.000396\n",
       "Gabon                    0.000343\n",
       "Montenegro               0.000321\n",
       "Palestinian Territory    0.000268\n",
       "dtype: float64"
      ]
     },
     "execution_count": 18,
     "metadata": {},
     "output_type": "execute_result"
    }
   ],
   "source": [
    "# rank high quality rate in descending order to get 10 highest-ranked countries\n",
    "highest_high_quality_rate = high_quality_rate.sort_values(ascending = False)[0 : 10]\n",
    "highest_high_quality_rate"
   ]
  },
  {
   "cell_type": "code",
   "execution_count": 24,
   "metadata": {
    "collapsed": false
   },
   "outputs": [
    {
     "data": {
      "image/png": "[encoded data removed]",
      "text/plain": [
       "<matplotlib.figure.Figure at 0x116d615c0>"
      ]
     },
     "metadata": {},
     "output_type": "display_data"
    }
   ],
   "source": [
    "# plot the visualization\n",
    "lables = highest_high_quality_rate.index\n",
    "values = highest_high_quality_rate.values\n",
    "y_pos = np.arange(len(lables))\n",
    "\n",
    "fig, ax = plt.subplots()\n",
    "\n",
    "ax.bar(y_pos, values, width = 0.6, label = 'High-quality-article Rate' )\n",
    "\n",
    "fig.set_size_inches(11, 6)\n",
    "plt.xticks(y_pos, lables, rotation=70)\n",
    "plt.legend(prop={'size': 15})\n",
    "fig.suptitle('10 Highest-ranked Country In Terms Of High-quality-article Rate (%)', fontsize=20)\n",
    "ax.set_xlabel('Country')\n",
    "ax.set_ylabel('High-quality-article Rate')\n",
    "ax.xaxis.label.set_size(15)\n",
    "ax.yaxis.label.set_size(15)\n",
    "\n",
    "plt.show()"
   ]
  },
  {
   "cell_type": "markdown",
   "metadata": {},
   "source": [
    "### (4) 10 lowest-ranked countries in terms of number of GA and FA-quality articles as a proportion of all articles about politicians from that country"
   ]
  },
  {
   "cell_type": "code",
   "execution_count": 20,
   "metadata": {
    "collapsed": false
   },
   "outputs": [
    {
     "data": {
      "text/plain": [
       "country\n",
       "Guyana             0.0\n",
       "Mozambique         0.0\n",
       "Eritrea            0.0\n",
       "Seychelles         0.0\n",
       "Burundi            0.0\n",
       "Monaco             0.0\n",
       "Kazakhstan         0.0\n",
       "Kiribati           0.0\n",
       "Cape Verde         0.0\n",
       "Solomon Islands    0.0\n",
       "dtype: float64"
      ]
     },
     "execution_count": 20,
     "metadata": {},
     "output_type": "execute_result"
    }
   ],
   "source": [
    "# rank high quality rate in ascending order to get 10 lowest-ranked countries\n",
    "lowest_high_quality_rate = high_quality_rate.sort_values()[0 : 10]\n",
    "lowest_high_quality_rate"
   ]
  },
  {
   "cell_type": "code",
   "execution_count": 25,
   "metadata": {
    "collapsed": false
   },
   "outputs": [
    {
     "data": {
      "image/png": "[encoded data removed]",
      "text/plain": [
       "<matplotlib.figure.Figure at 0x116507160>"
      ]
     },
     "metadata": {},
     "output_type": "display_data"
    }
   ],
   "source": [
    "# plot the visualization\n",
    "lables = lowest_high_quality_rate.index\n",
    "values = lowest_high_quality_rate.values\n",
    "y_pos = np.arange(len(lables))\n",
    "\n",
    "fig, ax = plt.subplots()\n",
    "\n",
    "ax.bar(y_pos, values, width = 0.6, label = 'High-quality-article Rate' )\n",
    "\n",
    "fig.set_size_inches(11, 6)\n",
    "plt.xticks(y_pos, lables, rotation=70)\n",
    "plt.legend(prop={'size': 15})\n",
    "fig.suptitle('10 Lowest-ranked Country In Terms Of High-quality-article Rate (%)', fontsize=20)\n",
    "ax.set_xlabel('Country')\n",
    "ax.set_ylabel('High-quality-article Rate')\n",
    "ax.xaxis.label.set_size(15)\n",
    "ax.yaxis.label.set_size(15)\n",
    "\n",
    "plt.show()"
   ]
  },
  {
   "cell_type": "markdown",
   "metadata": {
    "collapsed": true
   },
   "source": [
    "## 6. Reflection\n",
    "\n",
    "From the analysis, it seems that country with small population has higher article-per-population, while country with large population has lower article-per-population. The analysis of high quality rate also make little sense. Some possible bias are:\n",
    "\n",
    "1. Article data is only English-language data. It might be possible that countries don't use English as primary language would have less articles on English Wikipedia. So the analysis can't reflect the true politician rate of a country.\n",
    "\n",
    "2. The data is only from Wikipedia, also it might be possible that people in some countries tend not to use Wikipedia. It makes no sence to divide the article counts by population in each country.\n",
    "\n",
    "3. Many countries don't have any high quality article, it makes no sense to plot the lowest rank country in terms of high quality rate.\n",
    "\n"
   ]
  }
 ],
 "metadata": {
  "kernelspec": {
   "display_name": "Python 3",
   "language": "python",
   "name": "python3"
  },
  "language_info": {
   "codemirror_mode": {
    "name": "ipython",
    "version": 3
   },
   "file_extension": ".py",
   "mimetype": "text/x-python",
   "name": "python",
   "nbconvert_exporter": "python",
   "pygments_lexer": "ipython3",
   "version": "3.6.0"
  }
 },
 "nbformat": 4,
 "nbformat_minor": 2
}
